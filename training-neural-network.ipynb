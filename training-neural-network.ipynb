{
 "cells": [
  {
   "cell_type": "code",
   "execution_count": 1,
   "id": "9a33dd22",
   "metadata": {
    "_cell_guid": "b1076dfc-b9ad-4769-8c92-a6c4dae69d19",
    "_uuid": "8f2839f25d086af736a60e9eeb907d3b93b6e0e5",
    "execution": {
     "iopub.execute_input": "2022-07-13T12:47:18.506640Z",
     "iopub.status.busy": "2022-07-13T12:47:18.506245Z",
     "iopub.status.idle": "2022-07-13T12:47:18.521540Z",
     "shell.execute_reply": "2022-07-13T12:47:18.520828Z"
    },
    "papermill": {
     "duration": 0.02594,
     "end_time": "2022-07-13T12:47:18.523993",
     "exception": false,
     "start_time": "2022-07-13T12:47:18.498053",
     "status": "completed"
    },
    "tags": []
   },
   "outputs": [
    {
     "name": "stdout",
     "output_type": "stream",
     "text": [
      "/kaggle/input/credit-card-customer-churn-prediction/Churn_Modelling.csv\n"
     ]
    }
   ],
   "source": [
    "# This Python 3 environment comes with many helpful analytics libraries installed\n",
    "# It is defined by the kaggle/python Docker image: https://github.com/kaggle/docker-python\n",
    "# For example, here's several helpful packages to load\n",
    "\n",
    "import numpy as np # linear algebra\n",
    "import pandas as pd # data processing, CSV file I/O (e.g. pd.read_csv)\n",
    "\n",
    "# Input data files are available in the read-only \"../input/\" directory\n",
    "# For example, running this (by clicking run or pressing Shift+Enter) will list all files under the input directory\n",
    "\n",
    "import os\n",
    "for dirname, _, filenames in os.walk('/kaggle/input'):\n",
    "    for filename in filenames:\n",
    "        print(os.path.join(dirname, filename))\n",
    "\n",
    "# You can write up to 20GB to the current directory (/kaggle/working/) that gets preserved as output when you create a version using \"Save & Run All\" \n",
    "# You can also write temporary files to /kaggle/temp/, but they won't be saved outside of the current session"
   ]
  },
  {
   "cell_type": "code",
   "execution_count": 2,
   "id": "0f021a18",
   "metadata": {
    "execution": {
     "iopub.execute_input": "2022-07-13T12:47:18.537244Z",
     "iopub.status.busy": "2022-07-13T12:47:18.536964Z",
     "iopub.status.idle": "2022-07-13T12:47:18.579396Z",
     "shell.execute_reply": "2022-07-13T12:47:18.577856Z"
    },
    "papermill": {
     "duration": 0.051817,
     "end_time": "2022-07-13T12:47:18.582469",
     "exception": false,
     "start_time": "2022-07-13T12:47:18.530652",
     "status": "completed"
    },
    "tags": []
   },
   "outputs": [],
   "source": [
    "df = pd.read_csv('/kaggle/input/credit-card-customer-churn-prediction/Churn_Modelling.csv')"
   ]
  },
  {
   "cell_type": "code",
   "execution_count": 3,
   "id": "865cff13",
   "metadata": {
    "execution": {
     "iopub.execute_input": "2022-07-13T12:47:18.598907Z",
     "iopub.status.busy": "2022-07-13T12:47:18.597711Z",
     "iopub.status.idle": "2022-07-13T12:47:18.623899Z",
     "shell.execute_reply": "2022-07-13T12:47:18.621711Z"
    },
    "papermill": {
     "duration": 0.03612,
     "end_time": "2022-07-13T12:47:18.626636",
     "exception": false,
     "start_time": "2022-07-13T12:47:18.590516",
     "status": "completed"
    },
    "tags": []
   },
   "outputs": [
    {
     "data": {
      "text/html": [
       "<div>\n",
       "<style scoped>\n",
       "    .dataframe tbody tr th:only-of-type {\n",
       "        vertical-align: middle;\n",
       "    }\n",
       "\n",
       "    .dataframe tbody tr th {\n",
       "        vertical-align: top;\n",
       "    }\n",
       "\n",
       "    .dataframe thead th {\n",
       "        text-align: right;\n",
       "    }\n",
       "</style>\n",
       "<table border=\"1\" class=\"dataframe\">\n",
       "  <thead>\n",
       "    <tr style=\"text-align: right;\">\n",
       "      <th></th>\n",
       "      <th>RowNumber</th>\n",
       "      <th>CustomerId</th>\n",
       "      <th>Surname</th>\n",
       "      <th>CreditScore</th>\n",
       "      <th>Geography</th>\n",
       "      <th>Gender</th>\n",
       "      <th>Age</th>\n",
       "      <th>Tenure</th>\n",
       "      <th>Balance</th>\n",
       "      <th>NumOfProducts</th>\n",
       "      <th>HasCrCard</th>\n",
       "      <th>IsActiveMember</th>\n",
       "      <th>EstimatedSalary</th>\n",
       "      <th>Exited</th>\n",
       "    </tr>\n",
       "  </thead>\n",
       "  <tbody>\n",
       "    <tr>\n",
       "      <th>0</th>\n",
       "      <td>1</td>\n",
       "      <td>15634602</td>\n",
       "      <td>Hargrave</td>\n",
       "      <td>619</td>\n",
       "      <td>France</td>\n",
       "      <td>Female</td>\n",
       "      <td>42</td>\n",
       "      <td>2</td>\n",
       "      <td>0.00</td>\n",
       "      <td>1</td>\n",
       "      <td>1</td>\n",
       "      <td>1</td>\n",
       "      <td>101348.88</td>\n",
       "      <td>1</td>\n",
       "    </tr>\n",
       "    <tr>\n",
       "      <th>1</th>\n",
       "      <td>2</td>\n",
       "      <td>15647311</td>\n",
       "      <td>Hill</td>\n",
       "      <td>608</td>\n",
       "      <td>Spain</td>\n",
       "      <td>Female</td>\n",
       "      <td>41</td>\n",
       "      <td>1</td>\n",
       "      <td>83807.86</td>\n",
       "      <td>1</td>\n",
       "      <td>0</td>\n",
       "      <td>1</td>\n",
       "      <td>112542.58</td>\n",
       "      <td>0</td>\n",
       "    </tr>\n",
       "    <tr>\n",
       "      <th>2</th>\n",
       "      <td>3</td>\n",
       "      <td>15619304</td>\n",
       "      <td>Onio</td>\n",
       "      <td>502</td>\n",
       "      <td>France</td>\n",
       "      <td>Female</td>\n",
       "      <td>42</td>\n",
       "      <td>8</td>\n",
       "      <td>159660.80</td>\n",
       "      <td>3</td>\n",
       "      <td>1</td>\n",
       "      <td>0</td>\n",
       "      <td>113931.57</td>\n",
       "      <td>1</td>\n",
       "    </tr>\n",
       "    <tr>\n",
       "      <th>3</th>\n",
       "      <td>4</td>\n",
       "      <td>15701354</td>\n",
       "      <td>Boni</td>\n",
       "      <td>699</td>\n",
       "      <td>France</td>\n",
       "      <td>Female</td>\n",
       "      <td>39</td>\n",
       "      <td>1</td>\n",
       "      <td>0.00</td>\n",
       "      <td>2</td>\n",
       "      <td>0</td>\n",
       "      <td>0</td>\n",
       "      <td>93826.63</td>\n",
       "      <td>0</td>\n",
       "    </tr>\n",
       "    <tr>\n",
       "      <th>4</th>\n",
       "      <td>5</td>\n",
       "      <td>15737888</td>\n",
       "      <td>Mitchell</td>\n",
       "      <td>850</td>\n",
       "      <td>Spain</td>\n",
       "      <td>Female</td>\n",
       "      <td>43</td>\n",
       "      <td>2</td>\n",
       "      <td>125510.82</td>\n",
       "      <td>1</td>\n",
       "      <td>1</td>\n",
       "      <td>1</td>\n",
       "      <td>79084.10</td>\n",
       "      <td>0</td>\n",
       "    </tr>\n",
       "  </tbody>\n",
       "</table>\n",
       "</div>"
      ],
      "text/plain": [
       "   RowNumber  CustomerId   Surname  CreditScore Geography  Gender  Age  \\\n",
       "0          1    15634602  Hargrave          619    France  Female   42   \n",
       "1          2    15647311      Hill          608     Spain  Female   41   \n",
       "2          3    15619304      Onio          502    France  Female   42   \n",
       "3          4    15701354      Boni          699    France  Female   39   \n",
       "4          5    15737888  Mitchell          850     Spain  Female   43   \n",
       "\n",
       "   Tenure    Balance  NumOfProducts  HasCrCard  IsActiveMember  \\\n",
       "0       2       0.00              1          1               1   \n",
       "1       1   83807.86              1          0               1   \n",
       "2       8  159660.80              3          1               0   \n",
       "3       1       0.00              2          0               0   \n",
       "4       2  125510.82              1          1               1   \n",
       "\n",
       "   EstimatedSalary  Exited  \n",
       "0        101348.88       1  \n",
       "1        112542.58       0  \n",
       "2        113931.57       1  \n",
       "3         93826.63       0  \n",
       "4         79084.10       0  "
      ]
     },
     "execution_count": 3,
     "metadata": {},
     "output_type": "execute_result"
    }
   ],
   "source": [
    "df.head()"
   ]
  },
  {
   "cell_type": "code",
   "execution_count": 4,
   "id": "619171b2",
   "metadata": {
    "execution": {
     "iopub.execute_input": "2022-07-13T12:47:18.640122Z",
     "iopub.status.busy": "2022-07-13T12:47:18.639534Z",
     "iopub.status.idle": "2022-07-13T12:47:18.645460Z",
     "shell.execute_reply": "2022-07-13T12:47:18.644732Z"
    },
    "papermill": {
     "duration": 0.01439,
     "end_time": "2022-07-13T12:47:18.647200",
     "exception": false,
     "start_time": "2022-07-13T12:47:18.632810",
     "status": "completed"
    },
    "tags": []
   },
   "outputs": [
    {
     "data": {
      "text/plain": [
       "(10000, 14)"
      ]
     },
     "execution_count": 4,
     "metadata": {},
     "output_type": "execute_result"
    }
   ],
   "source": [
    "df.shape"
   ]
  },
  {
   "cell_type": "code",
   "execution_count": 5,
   "id": "85b64297",
   "metadata": {
    "execution": {
     "iopub.execute_input": "2022-07-13T12:47:18.660054Z",
     "iopub.status.busy": "2022-07-13T12:47:18.659618Z",
     "iopub.status.idle": "2022-07-13T12:47:18.683093Z",
     "shell.execute_reply": "2022-07-13T12:47:18.681835Z"
    },
    "papermill": {
     "duration": 0.03218,
     "end_time": "2022-07-13T12:47:18.685088",
     "exception": false,
     "start_time": "2022-07-13T12:47:18.652908",
     "status": "completed"
    },
    "tags": []
   },
   "outputs": [
    {
     "name": "stdout",
     "output_type": "stream",
     "text": [
      "<class 'pandas.core.frame.DataFrame'>\n",
      "RangeIndex: 10000 entries, 0 to 9999\n",
      "Data columns (total 14 columns):\n",
      " #   Column           Non-Null Count  Dtype  \n",
      "---  ------           --------------  -----  \n",
      " 0   RowNumber        10000 non-null  int64  \n",
      " 1   CustomerId       10000 non-null  int64  \n",
      " 2   Surname          10000 non-null  object \n",
      " 3   CreditScore      10000 non-null  int64  \n",
      " 4   Geography        10000 non-null  object \n",
      " 5   Gender           10000 non-null  object \n",
      " 6   Age              10000 non-null  int64  \n",
      " 7   Tenure           10000 non-null  int64  \n",
      " 8   Balance          10000 non-null  float64\n",
      " 9   NumOfProducts    10000 non-null  int64  \n",
      " 10  HasCrCard        10000 non-null  int64  \n",
      " 11  IsActiveMember   10000 non-null  int64  \n",
      " 12  EstimatedSalary  10000 non-null  float64\n",
      " 13  Exited           10000 non-null  int64  \n",
      "dtypes: float64(2), int64(9), object(3)\n",
      "memory usage: 1.1+ MB\n"
     ]
    }
   ],
   "source": [
    "df.info()"
   ]
  },
  {
   "cell_type": "code",
   "execution_count": 6,
   "id": "915e278e",
   "metadata": {
    "execution": {
     "iopub.execute_input": "2022-07-13T12:47:18.698063Z",
     "iopub.status.busy": "2022-07-13T12:47:18.697733Z",
     "iopub.status.idle": "2022-07-13T12:47:18.712166Z",
     "shell.execute_reply": "2022-07-13T12:47:18.711497Z"
    },
    "papermill": {
     "duration": 0.022929,
     "end_time": "2022-07-13T12:47:18.713841",
     "exception": false,
     "start_time": "2022-07-13T12:47:18.690912",
     "status": "completed"
    },
    "tags": []
   },
   "outputs": [
    {
     "data": {
      "text/plain": [
       "0"
      ]
     },
     "execution_count": 6,
     "metadata": {},
     "output_type": "execute_result"
    }
   ],
   "source": [
    "df.duplicated().sum()"
   ]
  },
  {
   "cell_type": "code",
   "execution_count": 7,
   "id": "4f604996",
   "metadata": {
    "execution": {
     "iopub.execute_input": "2022-07-13T12:47:18.727072Z",
     "iopub.status.busy": "2022-07-13T12:47:18.726369Z",
     "iopub.status.idle": "2022-07-13T12:47:18.733926Z",
     "shell.execute_reply": "2022-07-13T12:47:18.732998Z"
    },
    "papermill": {
     "duration": 0.016094,
     "end_time": "2022-07-13T12:47:18.735862",
     "exception": false,
     "start_time": "2022-07-13T12:47:18.719768",
     "status": "completed"
    },
    "tags": []
   },
   "outputs": [
    {
     "data": {
      "text/plain": [
       "0    7963\n",
       "1    2037\n",
       "Name: Exited, dtype: int64"
      ]
     },
     "execution_count": 7,
     "metadata": {},
     "output_type": "execute_result"
    }
   ],
   "source": [
    "df['Exited'].value_counts()"
   ]
  },
  {
   "cell_type": "code",
   "execution_count": 8,
   "id": "8b2253a0",
   "metadata": {
    "execution": {
     "iopub.execute_input": "2022-07-13T12:47:18.748818Z",
     "iopub.status.busy": "2022-07-13T12:47:18.748532Z",
     "iopub.status.idle": "2022-07-13T12:47:18.755982Z",
     "shell.execute_reply": "2022-07-13T12:47:18.754925Z"
    },
    "papermill": {
     "duration": 0.015966,
     "end_time": "2022-07-13T12:47:18.757855",
     "exception": false,
     "start_time": "2022-07-13T12:47:18.741889",
     "status": "completed"
    },
    "tags": []
   },
   "outputs": [
    {
     "data": {
      "text/plain": [
       "France     5014\n",
       "Germany    2509\n",
       "Spain      2477\n",
       "Name: Geography, dtype: int64"
      ]
     },
     "execution_count": 8,
     "metadata": {},
     "output_type": "execute_result"
    }
   ],
   "source": [
    "df['Geography'].value_counts()"
   ]
  },
  {
   "cell_type": "code",
   "execution_count": 9,
   "id": "9353748a",
   "metadata": {
    "execution": {
     "iopub.execute_input": "2022-07-13T12:47:18.771404Z",
     "iopub.status.busy": "2022-07-13T12:47:18.770923Z",
     "iopub.status.idle": "2022-07-13T12:47:18.778385Z",
     "shell.execute_reply": "2022-07-13T12:47:18.777709Z"
    },
    "papermill": {
     "duration": 0.016203,
     "end_time": "2022-07-13T12:47:18.780112",
     "exception": false,
     "start_time": "2022-07-13T12:47:18.763909",
     "status": "completed"
    },
    "tags": []
   },
   "outputs": [
    {
     "data": {
      "text/plain": [
       "Male      5457\n",
       "Female    4543\n",
       "Name: Gender, dtype: int64"
      ]
     },
     "execution_count": 9,
     "metadata": {},
     "output_type": "execute_result"
    }
   ],
   "source": [
    "df['Gender'].value_counts()"
   ]
  },
  {
   "cell_type": "code",
   "execution_count": 10,
   "id": "c2e2b68f",
   "metadata": {
    "execution": {
     "iopub.execute_input": "2022-07-13T12:47:18.794298Z",
     "iopub.status.busy": "2022-07-13T12:47:18.793763Z",
     "iopub.status.idle": "2022-07-13T12:47:18.799625Z",
     "shell.execute_reply": "2022-07-13T12:47:18.798868Z"
    },
    "papermill": {
     "duration": 0.015166,
     "end_time": "2022-07-13T12:47:18.801345",
     "exception": false,
     "start_time": "2022-07-13T12:47:18.786179",
     "status": "completed"
    },
    "tags": []
   },
   "outputs": [
    {
     "data": {
      "text/plain": [
       "Index(['RowNumber', 'CustomerId', 'Surname', 'CreditScore', 'Geography',\n",
       "       'Gender', 'Age', 'Tenure', 'Balance', 'NumOfProducts', 'HasCrCard',\n",
       "       'IsActiveMember', 'EstimatedSalary', 'Exited'],\n",
       "      dtype='object')"
      ]
     },
     "execution_count": 10,
     "metadata": {},
     "output_type": "execute_result"
    }
   ],
   "source": [
    "df.columns"
   ]
  },
  {
   "cell_type": "code",
   "execution_count": 11,
   "id": "fb70164c",
   "metadata": {
    "execution": {
     "iopub.execute_input": "2022-07-13T12:47:18.815119Z",
     "iopub.status.busy": "2022-07-13T12:47:18.814616Z",
     "iopub.status.idle": "2022-07-13T12:47:18.820782Z",
     "shell.execute_reply": "2022-07-13T12:47:18.820104Z"
    },
    "papermill": {
     "duration": 0.015276,
     "end_time": "2022-07-13T12:47:18.822748",
     "exception": false,
     "start_time": "2022-07-13T12:47:18.807472",
     "status": "completed"
    },
    "tags": []
   },
   "outputs": [],
   "source": [
    "df.drop(columns = ['RowNumber' , 'CustomerId' , 'Surname'] , inplace = True)"
   ]
  },
  {
   "cell_type": "code",
   "execution_count": 12,
   "id": "bba260c5",
   "metadata": {
    "execution": {
     "iopub.execute_input": "2022-07-13T12:47:18.836867Z",
     "iopub.status.busy": "2022-07-13T12:47:18.836538Z",
     "iopub.status.idle": "2022-07-13T12:47:18.849700Z",
     "shell.execute_reply": "2022-07-13T12:47:18.848625Z"
    },
    "papermill": {
     "duration": 0.022601,
     "end_time": "2022-07-13T12:47:18.851790",
     "exception": false,
     "start_time": "2022-07-13T12:47:18.829189",
     "status": "completed"
    },
    "tags": []
   },
   "outputs": [
    {
     "data": {
      "text/html": [
       "<div>\n",
       "<style scoped>\n",
       "    .dataframe tbody tr th:only-of-type {\n",
       "        vertical-align: middle;\n",
       "    }\n",
       "\n",
       "    .dataframe tbody tr th {\n",
       "        vertical-align: top;\n",
       "    }\n",
       "\n",
       "    .dataframe thead th {\n",
       "        text-align: right;\n",
       "    }\n",
       "</style>\n",
       "<table border=\"1\" class=\"dataframe\">\n",
       "  <thead>\n",
       "    <tr style=\"text-align: right;\">\n",
       "      <th></th>\n",
       "      <th>CreditScore</th>\n",
       "      <th>Geography</th>\n",
       "      <th>Gender</th>\n",
       "      <th>Age</th>\n",
       "      <th>Tenure</th>\n",
       "      <th>Balance</th>\n",
       "      <th>NumOfProducts</th>\n",
       "      <th>HasCrCard</th>\n",
       "      <th>IsActiveMember</th>\n",
       "      <th>EstimatedSalary</th>\n",
       "      <th>Exited</th>\n",
       "    </tr>\n",
       "  </thead>\n",
       "  <tbody>\n",
       "    <tr>\n",
       "      <th>0</th>\n",
       "      <td>619</td>\n",
       "      <td>France</td>\n",
       "      <td>Female</td>\n",
       "      <td>42</td>\n",
       "      <td>2</td>\n",
       "      <td>0.00</td>\n",
       "      <td>1</td>\n",
       "      <td>1</td>\n",
       "      <td>1</td>\n",
       "      <td>101348.88</td>\n",
       "      <td>1</td>\n",
       "    </tr>\n",
       "    <tr>\n",
       "      <th>1</th>\n",
       "      <td>608</td>\n",
       "      <td>Spain</td>\n",
       "      <td>Female</td>\n",
       "      <td>41</td>\n",
       "      <td>1</td>\n",
       "      <td>83807.86</td>\n",
       "      <td>1</td>\n",
       "      <td>0</td>\n",
       "      <td>1</td>\n",
       "      <td>112542.58</td>\n",
       "      <td>0</td>\n",
       "    </tr>\n",
       "    <tr>\n",
       "      <th>2</th>\n",
       "      <td>502</td>\n",
       "      <td>France</td>\n",
       "      <td>Female</td>\n",
       "      <td>42</td>\n",
       "      <td>8</td>\n",
       "      <td>159660.80</td>\n",
       "      <td>3</td>\n",
       "      <td>1</td>\n",
       "      <td>0</td>\n",
       "      <td>113931.57</td>\n",
       "      <td>1</td>\n",
       "    </tr>\n",
       "    <tr>\n",
       "      <th>3</th>\n",
       "      <td>699</td>\n",
       "      <td>France</td>\n",
       "      <td>Female</td>\n",
       "      <td>39</td>\n",
       "      <td>1</td>\n",
       "      <td>0.00</td>\n",
       "      <td>2</td>\n",
       "      <td>0</td>\n",
       "      <td>0</td>\n",
       "      <td>93826.63</td>\n",
       "      <td>0</td>\n",
       "    </tr>\n",
       "    <tr>\n",
       "      <th>4</th>\n",
       "      <td>850</td>\n",
       "      <td>Spain</td>\n",
       "      <td>Female</td>\n",
       "      <td>43</td>\n",
       "      <td>2</td>\n",
       "      <td>125510.82</td>\n",
       "      <td>1</td>\n",
       "      <td>1</td>\n",
       "      <td>1</td>\n",
       "      <td>79084.10</td>\n",
       "      <td>0</td>\n",
       "    </tr>\n",
       "  </tbody>\n",
       "</table>\n",
       "</div>"
      ],
      "text/plain": [
       "   CreditScore Geography  Gender  Age  Tenure    Balance  NumOfProducts  \\\n",
       "0          619    France  Female   42       2       0.00              1   \n",
       "1          608     Spain  Female   41       1   83807.86              1   \n",
       "2          502    France  Female   42       8  159660.80              3   \n",
       "3          699    France  Female   39       1       0.00              2   \n",
       "4          850     Spain  Female   43       2  125510.82              1   \n",
       "\n",
       "   HasCrCard  IsActiveMember  EstimatedSalary  Exited  \n",
       "0          1               1        101348.88       1  \n",
       "1          0               1        112542.58       0  \n",
       "2          1               0        113931.57       1  \n",
       "3          0               0         93826.63       0  \n",
       "4          1               1         79084.10       0  "
      ]
     },
     "execution_count": 12,
     "metadata": {},
     "output_type": "execute_result"
    }
   ],
   "source": [
    "df.head()"
   ]
  },
  {
   "cell_type": "code",
   "execution_count": 13,
   "id": "419a84ec",
   "metadata": {
    "execution": {
     "iopub.execute_input": "2022-07-13T12:47:18.866877Z",
     "iopub.status.busy": "2022-07-13T12:47:18.866363Z",
     "iopub.status.idle": "2022-07-13T12:47:18.878057Z",
     "shell.execute_reply": "2022-07-13T12:47:18.876836Z"
    },
    "papermill": {
     "duration": 0.022703,
     "end_time": "2022-07-13T12:47:18.881335",
     "exception": false,
     "start_time": "2022-07-13T12:47:18.858632",
     "status": "completed"
    },
    "tags": []
   },
   "outputs": [],
   "source": [
    "df = pd.get_dummies(df , columns = ['Geography' , 'Gender'], drop_first = True )"
   ]
  },
  {
   "cell_type": "code",
   "execution_count": 14,
   "id": "474dbbf0",
   "metadata": {
    "execution": {
     "iopub.execute_input": "2022-07-13T12:47:18.902787Z",
     "iopub.status.busy": "2022-07-13T12:47:18.902135Z",
     "iopub.status.idle": "2022-07-13T12:47:18.914476Z",
     "shell.execute_reply": "2022-07-13T12:47:18.913736Z"
    },
    "papermill": {
     "duration": 0.02653,
     "end_time": "2022-07-13T12:47:18.916372",
     "exception": false,
     "start_time": "2022-07-13T12:47:18.889842",
     "status": "completed"
    },
    "tags": []
   },
   "outputs": [
    {
     "data": {
      "text/html": [
       "<div>\n",
       "<style scoped>\n",
       "    .dataframe tbody tr th:only-of-type {\n",
       "        vertical-align: middle;\n",
       "    }\n",
       "\n",
       "    .dataframe tbody tr th {\n",
       "        vertical-align: top;\n",
       "    }\n",
       "\n",
       "    .dataframe thead th {\n",
       "        text-align: right;\n",
       "    }\n",
       "</style>\n",
       "<table border=\"1\" class=\"dataframe\">\n",
       "  <thead>\n",
       "    <tr style=\"text-align: right;\">\n",
       "      <th></th>\n",
       "      <th>CreditScore</th>\n",
       "      <th>Age</th>\n",
       "      <th>Tenure</th>\n",
       "      <th>Balance</th>\n",
       "      <th>NumOfProducts</th>\n",
       "      <th>HasCrCard</th>\n",
       "      <th>IsActiveMember</th>\n",
       "      <th>EstimatedSalary</th>\n",
       "      <th>Exited</th>\n",
       "      <th>Geography_Germany</th>\n",
       "      <th>Geography_Spain</th>\n",
       "      <th>Gender_Male</th>\n",
       "    </tr>\n",
       "  </thead>\n",
       "  <tbody>\n",
       "    <tr>\n",
       "      <th>0</th>\n",
       "      <td>619</td>\n",
       "      <td>42</td>\n",
       "      <td>2</td>\n",
       "      <td>0.00</td>\n",
       "      <td>1</td>\n",
       "      <td>1</td>\n",
       "      <td>1</td>\n",
       "      <td>101348.88</td>\n",
       "      <td>1</td>\n",
       "      <td>0</td>\n",
       "      <td>0</td>\n",
       "      <td>0</td>\n",
       "    </tr>\n",
       "    <tr>\n",
       "      <th>1</th>\n",
       "      <td>608</td>\n",
       "      <td>41</td>\n",
       "      <td>1</td>\n",
       "      <td>83807.86</td>\n",
       "      <td>1</td>\n",
       "      <td>0</td>\n",
       "      <td>1</td>\n",
       "      <td>112542.58</td>\n",
       "      <td>0</td>\n",
       "      <td>0</td>\n",
       "      <td>1</td>\n",
       "      <td>0</td>\n",
       "    </tr>\n",
       "  </tbody>\n",
       "</table>\n",
       "</div>"
      ],
      "text/plain": [
       "   CreditScore  Age  Tenure   Balance  NumOfProducts  HasCrCard  \\\n",
       "0          619   42       2      0.00              1          1   \n",
       "1          608   41       1  83807.86              1          0   \n",
       "\n",
       "   IsActiveMember  EstimatedSalary  Exited  Geography_Germany  \\\n",
       "0               1        101348.88       1                  0   \n",
       "1               1        112542.58       0                  0   \n",
       "\n",
       "   Geography_Spain  Gender_Male  \n",
       "0                0            0  \n",
       "1                1            0  "
      ]
     },
     "execution_count": 14,
     "metadata": {},
     "output_type": "execute_result"
    }
   ],
   "source": [
    "df.head(2)"
   ]
  },
  {
   "cell_type": "code",
   "execution_count": 15,
   "id": "98f2cb10",
   "metadata": {
    "execution": {
     "iopub.execute_input": "2022-07-13T12:47:18.931243Z",
     "iopub.status.busy": "2022-07-13T12:47:18.930701Z",
     "iopub.status.idle": "2022-07-13T12:47:18.936545Z",
     "shell.execute_reply": "2022-07-13T12:47:18.935841Z"
    },
    "papermill": {
     "duration": 0.015319,
     "end_time": "2022-07-13T12:47:18.938414",
     "exception": false,
     "start_time": "2022-07-13T12:47:18.923095",
     "status": "completed"
    },
    "tags": []
   },
   "outputs": [],
   "source": [
    "X= df.drop('Exited' , axis=1 )\n",
    "y = df['Exited']"
   ]
  },
  {
   "cell_type": "code",
   "execution_count": 16,
   "id": "dd6b1457",
   "metadata": {
    "execution": {
     "iopub.execute_input": "2022-07-13T12:47:18.953555Z",
     "iopub.status.busy": "2022-07-13T12:47:18.952828Z",
     "iopub.status.idle": "2022-07-13T12:47:20.008709Z",
     "shell.execute_reply": "2022-07-13T12:47:20.007575Z"
    },
    "papermill": {
     "duration": 1.066213,
     "end_time": "2022-07-13T12:47:20.011216",
     "exception": false,
     "start_time": "2022-07-13T12:47:18.945003",
     "status": "completed"
    },
    "tags": []
   },
   "outputs": [],
   "source": [
    "from sklearn.model_selection import train_test_split\n",
    "X_train , X_test , y_train , y_test  = train_test_split(X,y,test_size = 0.2, random_state = 1)"
   ]
  },
  {
   "cell_type": "code",
   "execution_count": 17,
   "id": "8c7a9d43",
   "metadata": {
    "execution": {
     "iopub.execute_input": "2022-07-13T12:47:20.026856Z",
     "iopub.status.busy": "2022-07-13T12:47:20.025911Z",
     "iopub.status.idle": "2022-07-13T12:47:20.032045Z",
     "shell.execute_reply": "2022-07-13T12:47:20.031363Z"
    },
    "papermill": {
     "duration": 0.015642,
     "end_time": "2022-07-13T12:47:20.033717",
     "exception": false,
     "start_time": "2022-07-13T12:47:20.018075",
     "status": "completed"
    },
    "tags": []
   },
   "outputs": [
    {
     "data": {
      "text/plain": [
       "((8000, 11), (2000, 11))"
      ]
     },
     "execution_count": 17,
     "metadata": {},
     "output_type": "execute_result"
    }
   ],
   "source": [
    "X_train.shape , X_test.shape"
   ]
  },
  {
   "cell_type": "code",
   "execution_count": 18,
   "id": "73a64439",
   "metadata": {
    "execution": {
     "iopub.execute_input": "2022-07-13T12:47:20.048425Z",
     "iopub.status.busy": "2022-07-13T12:47:20.047909Z",
     "iopub.status.idle": "2022-07-13T12:47:20.051332Z",
     "shell.execute_reply": "2022-07-13T12:47:20.050736Z"
    },
    "papermill": {
     "duration": 0.012546,
     "end_time": "2022-07-13T12:47:20.052955",
     "exception": false,
     "start_time": "2022-07-13T12:47:20.040409",
     "status": "completed"
    },
    "tags": []
   },
   "outputs": [],
   "source": [
    "from sklearn.preprocessing import StandardScaler\n",
    "scale = StandardScaler()"
   ]
  },
  {
   "cell_type": "code",
   "execution_count": 19,
   "id": "cf90c4a6",
   "metadata": {
    "execution": {
     "iopub.execute_input": "2022-07-13T12:47:20.067432Z",
     "iopub.status.busy": "2022-07-13T12:47:20.066928Z",
     "iopub.status.idle": "2022-07-13T12:47:20.077512Z",
     "shell.execute_reply": "2022-07-13T12:47:20.076841Z"
    },
    "papermill": {
     "duration": 0.019814,
     "end_time": "2022-07-13T12:47:20.079223",
     "exception": false,
     "start_time": "2022-07-13T12:47:20.059409",
     "status": "completed"
    },
    "tags": []
   },
   "outputs": [],
   "source": [
    "X_train_scaled = scale.fit_transform(X_train)\n",
    "X_test_scaled = scale.transform(X_test)"
   ]
  },
  {
   "cell_type": "code",
   "execution_count": 20,
   "id": "b2df8255",
   "metadata": {
    "execution": {
     "iopub.execute_input": "2022-07-13T12:47:20.094472Z",
     "iopub.status.busy": "2022-07-13T12:47:20.093968Z",
     "iopub.status.idle": "2022-07-13T12:47:20.099470Z",
     "shell.execute_reply": "2022-07-13T12:47:20.098699Z"
    },
    "papermill": {
     "duration": 0.015489,
     "end_time": "2022-07-13T12:47:20.101185",
     "exception": false,
     "start_time": "2022-07-13T12:47:20.085696",
     "status": "completed"
    },
    "tags": []
   },
   "outputs": [
    {
     "data": {
      "text/plain": [
       "array([[-0.23082038, -0.94449979, -0.70174202, ...,  1.71490137,\n",
       "        -0.57273139,  0.91509065],\n",
       "       [-0.25150912, -0.94449979, -0.35520275, ..., -0.58312392,\n",
       "        -0.57273139, -1.09278791],\n",
       "       [-0.3963303 ,  0.77498705,  0.33787579, ...,  1.71490137,\n",
       "        -0.57273139, -1.09278791],\n",
       "       ...,\n",
       "       [ 0.22433188,  0.58393295,  1.3774936 , ..., -0.58312392,\n",
       "        -0.57273139, -1.09278791],\n",
       "       [ 0.13123255,  0.01077067,  1.03095433, ..., -0.58312392,\n",
       "        -0.57273139, -1.09278791],\n",
       "       [ 1.1656695 ,  0.29735181,  0.33787579, ...,  1.71490137,\n",
       "        -0.57273139,  0.91509065]])"
      ]
     },
     "execution_count": 20,
     "metadata": {},
     "output_type": "execute_result"
    }
   ],
   "source": [
    "X_train_scaled"
   ]
  },
  {
   "cell_type": "code",
   "execution_count": 21,
   "id": "da3e8af1",
   "metadata": {
    "execution": {
     "iopub.execute_input": "2022-07-13T12:47:20.115980Z",
     "iopub.status.busy": "2022-07-13T12:47:20.115485Z",
     "iopub.status.idle": "2022-07-13T12:47:28.290431Z",
     "shell.execute_reply": "2022-07-13T12:47:28.289311Z"
    },
    "papermill": {
     "duration": 8.184985,
     "end_time": "2022-07-13T12:47:28.292869",
     "exception": false,
     "start_time": "2022-07-13T12:47:20.107884",
     "status": "completed"
    },
    "tags": []
   },
   "outputs": [],
   "source": [
    "import tensorflow\n",
    "from tensorflow import keras\n",
    "from keras.models import  Sequential\n",
    "from keras.layers import Dense"
   ]
  },
  {
   "cell_type": "code",
   "execution_count": 22,
   "id": "2afbd092",
   "metadata": {
    "execution": {
     "iopub.execute_input": "2022-07-13T12:47:28.308067Z",
     "iopub.status.busy": "2022-07-13T12:47:28.307446Z",
     "iopub.status.idle": "2022-07-13T12:47:28.410289Z",
     "shell.execute_reply": "2022-07-13T12:47:28.409073Z"
    },
    "papermill": {
     "duration": 0.112582,
     "end_time": "2022-07-13T12:47:28.412397",
     "exception": false,
     "start_time": "2022-07-13T12:47:28.299815",
     "status": "completed"
    },
    "tags": []
   },
   "outputs": [
    {
     "name": "stderr",
     "output_type": "stream",
     "text": [
      "2022-07-13 12:47:28.342054: I tensorflow/core/common_runtime/process_util.cc:146] Creating new thread pool with default inter op setting: 2. Tune using inter_op_parallelism_threads for best performance.\n"
     ]
    }
   ],
   "source": [
    "model = Sequential()\n",
    "model.add(Dense(3, activation = 'sigmoid' , input_dim = 11))\n",
    "model.add(Dense(1, activation = 'sigmoid'))"
   ]
  },
  {
   "cell_type": "code",
   "execution_count": 23,
   "id": "3f978383",
   "metadata": {
    "execution": {
     "iopub.execute_input": "2022-07-13T12:47:28.427616Z",
     "iopub.status.busy": "2022-07-13T12:47:28.427065Z",
     "iopub.status.idle": "2022-07-13T12:47:28.431662Z",
     "shell.execute_reply": "2022-07-13T12:47:28.431020Z"
    },
    "papermill": {
     "duration": 0.014986,
     "end_time": "2022-07-13T12:47:28.434299",
     "exception": false,
     "start_time": "2022-07-13T12:47:28.419313",
     "status": "completed"
    },
    "tags": []
   },
   "outputs": [
    {
     "name": "stdout",
     "output_type": "stream",
     "text": [
      "Model: \"sequential\"\n",
      "_________________________________________________________________\n",
      "Layer (type)                 Output Shape              Param #   \n",
      "=================================================================\n",
      "dense (Dense)                (None, 3)                 36        \n",
      "_________________________________________________________________\n",
      "dense_1 (Dense)              (None, 1)                 4         \n",
      "=================================================================\n",
      "Total params: 40\n",
      "Trainable params: 40\n",
      "Non-trainable params: 0\n",
      "_________________________________________________________________\n"
     ]
    }
   ],
   "source": [
    "model.summary()"
   ]
  },
  {
   "cell_type": "code",
   "execution_count": 24,
   "id": "340832d1",
   "metadata": {
    "execution": {
     "iopub.execute_input": "2022-07-13T12:47:28.450916Z",
     "iopub.status.busy": "2022-07-13T12:47:28.450564Z",
     "iopub.status.idle": "2022-07-13T12:47:28.462592Z",
     "shell.execute_reply": "2022-07-13T12:47:28.461631Z"
    },
    "papermill": {
     "duration": 0.02197,
     "end_time": "2022-07-13T12:47:28.464477",
     "exception": false,
     "start_time": "2022-07-13T12:47:28.442507",
     "status": "completed"
    },
    "tags": []
   },
   "outputs": [],
   "source": [
    "model.compile(optimizer = 'Adam' , loss = 'binary_crossentropy')"
   ]
  },
  {
   "cell_type": "code",
   "execution_count": 25,
   "id": "65e4b16f",
   "metadata": {
    "execution": {
     "iopub.execute_input": "2022-07-13T12:47:28.479269Z",
     "iopub.status.busy": "2022-07-13T12:47:28.478982Z",
     "iopub.status.idle": "2022-07-13T12:47:31.260828Z",
     "shell.execute_reply": "2022-07-13T12:47:31.260044Z"
    },
    "papermill": {
     "duration": 2.791659,
     "end_time": "2022-07-13T12:47:31.262913",
     "exception": false,
     "start_time": "2022-07-13T12:47:28.471254",
     "status": "completed"
    },
    "tags": []
   },
   "outputs": [
    {
     "name": "stderr",
     "output_type": "stream",
     "text": [
      "2022-07-13 12:47:28.550037: I tensorflow/compiler/mlir/mlir_graph_optimization_pass.cc:185] None of the MLIR Optimization Passes are enabled (registered 2)\n"
     ]
    },
    {
     "name": "stdout",
     "output_type": "stream",
     "text": [
      "Epoch 1/10\n",
      "250/250 [==============================] - 1s 850us/step - loss: 0.9189\n",
      "Epoch 2/10\n",
      "250/250 [==============================] - 0s 849us/step - loss: 0.6778\n",
      "Epoch 3/10\n",
      "250/250 [==============================] - 0s 887us/step - loss: 0.5568\n",
      "Epoch 4/10\n",
      "250/250 [==============================] - 0s 866us/step - loss: 0.5001\n",
      "Epoch 5/10\n",
      "250/250 [==============================] - 0s 838us/step - loss: 0.4730\n",
      "Epoch 6/10\n",
      "250/250 [==============================] - 0s 842us/step - loss: 0.4587\n",
      "Epoch 7/10\n",
      "250/250 [==============================] - 0s 863us/step - loss: 0.4501\n",
      "Epoch 8/10\n",
      "250/250 [==============================] - 0s 847us/step - loss: 0.4440\n",
      "Epoch 9/10\n",
      "250/250 [==============================] - 0s 839us/step - loss: 0.4395\n",
      "Epoch 10/10\n",
      "250/250 [==============================] - 0s 836us/step - loss: 0.4360\n"
     ]
    },
    {
     "data": {
      "text/plain": [
       "<keras.callbacks.History at 0x7fe3642e9610>"
      ]
     },
     "execution_count": 25,
     "metadata": {},
     "output_type": "execute_result"
    }
   ],
   "source": [
    "model.fit(X_train_scaled , y_train , epochs = 10)"
   ]
  },
  {
   "cell_type": "code",
   "execution_count": 26,
   "id": "af9f97c4",
   "metadata": {
    "execution": {
     "iopub.execute_input": "2022-07-13T12:47:31.284644Z",
     "iopub.status.busy": "2022-07-13T12:47:31.284090Z",
     "iopub.status.idle": "2022-07-13T12:47:31.291205Z",
     "shell.execute_reply": "2022-07-13T12:47:31.290322Z"
    },
    "papermill": {
     "duration": 0.019918,
     "end_time": "2022-07-13T12:47:31.293062",
     "exception": false,
     "start_time": "2022-07-13T12:47:31.273144",
     "status": "completed"
    },
    "tags": []
   },
   "outputs": [
    {
     "data": {
      "text/plain": [
       "[array([[ 0.06894686,  0.2575991 ,  0.17244269],\n",
       "        [ 0.5724606 , -1.3285393 ,  1.5090717 ],\n",
       "        [-0.24261713,  0.00339334, -0.06722707],\n",
       "        [-0.02894839, -0.70403403, -0.16017208],\n",
       "        [-0.4720145 , -0.24192046, -0.41348723],\n",
       "        [ 0.32926765,  0.1183704 , -0.16549769],\n",
       "        [-0.44366693,  0.709205  , -0.55616057],\n",
       "        [-0.39178273, -0.12124316,  0.21732637],\n",
       "        [ 0.42932677, -0.39081267,  0.41200644],\n",
       "        [ 0.39296085,  0.21214078, -0.1986964 ],\n",
       "        [-0.7131968 ,  0.3337435 , -0.20920731]], dtype=float32),\n",
       " array([-0.6657666,  1.0121536, -0.6250035], dtype=float32)]"
      ]
     },
     "execution_count": 26,
     "metadata": {},
     "output_type": "execute_result"
    }
   ],
   "source": [
    "model.layers[0].get_weights()"
   ]
  },
  {
   "cell_type": "code",
   "execution_count": 27,
   "id": "1eecab19",
   "metadata": {
    "execution": {
     "iopub.execute_input": "2022-07-13T12:47:31.314447Z",
     "iopub.status.busy": "2022-07-13T12:47:31.314109Z",
     "iopub.status.idle": "2022-07-13T12:47:31.322174Z",
     "shell.execute_reply": "2022-07-13T12:47:31.321217Z"
    },
    "papermill": {
     "duration": 0.02093,
     "end_time": "2022-07-13T12:47:31.324103",
     "exception": false,
     "start_time": "2022-07-13T12:47:31.303173",
     "status": "completed"
    },
    "tags": []
   },
   "outputs": [
    {
     "data": {
      "text/plain": [
       "[array([[ 0.5476532],\n",
       "        [-1.5589068],\n",
       "        [ 0.6094813]], dtype=float32),\n",
       " array([-0.85594004], dtype=float32)]"
      ]
     },
     "execution_count": 27,
     "metadata": {},
     "output_type": "execute_result"
    }
   ],
   "source": [
    "model.layers[1].get_weights()"
   ]
  },
  {
   "cell_type": "code",
   "execution_count": 28,
   "id": "59c3415d",
   "metadata": {
    "execution": {
     "iopub.execute_input": "2022-07-13T12:47:31.345847Z",
     "iopub.status.busy": "2022-07-13T12:47:31.344980Z",
     "iopub.status.idle": "2022-07-13T12:47:31.496358Z",
     "shell.execute_reply": "2022-07-13T12:47:31.495291Z"
    },
    "papermill": {
     "duration": 0.164264,
     "end_time": "2022-07-13T12:47:31.498360",
     "exception": false,
     "start_time": "2022-07-13T12:47:31.334096",
     "status": "completed"
    },
    "tags": []
   },
   "outputs": [
    {
     "data": {
      "text/plain": [
       "array([[0.13503972],\n",
       "       [0.16275421],\n",
       "       [0.14985734],\n",
       "       ...,\n",
       "       [0.09108347],\n",
       "       [0.1503875 ],\n",
       "       [0.35703242]], dtype=float32)"
      ]
     },
     "execution_count": 28,
     "metadata": {},
     "output_type": "execute_result"
    }
   ],
   "source": [
    "model.predict(X_test_scaled)"
   ]
  },
  {
   "cell_type": "code",
   "execution_count": null,
   "id": "775c5f16",
   "metadata": {
    "papermill": {
     "duration": 0.009987,
     "end_time": "2022-07-13T12:47:31.518755",
     "exception": false,
     "start_time": "2022-07-13T12:47:31.508768",
     "status": "completed"
    },
    "tags": []
   },
   "outputs": [],
   "source": []
  }
 ],
 "metadata": {
  "kernelspec": {
   "display_name": "Python 3",
   "language": "python",
   "name": "python3"
  },
  "language_info": {
   "codemirror_mode": {
    "name": "ipython",
    "version": 3
   },
   "file_extension": ".py",
   "mimetype": "text/x-python",
   "name": "python",
   "nbconvert_exporter": "python",
   "pygments_lexer": "ipython3",
   "version": "3.7.12"
  },
  "papermill": {
   "default_parameters": {},
   "duration": 24.434102,
   "end_time": "2022-07-13T12:47:34.664488",
   "environment_variables": {},
   "exception": null,
   "input_path": "__notebook__.ipynb",
   "output_path": "__notebook__.ipynb",
   "parameters": {},
   "start_time": "2022-07-13T12:47:10.230386",
   "version": "2.3.4"
  }
 },
 "nbformat": 4,
 "nbformat_minor": 5
}
